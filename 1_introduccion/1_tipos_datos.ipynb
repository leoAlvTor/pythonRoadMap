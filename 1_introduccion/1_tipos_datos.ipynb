{
 "cells": [
  {
   "cell_type": "markdown",
   "source": [
    "# Tipos de datos en Python\n"
   ],
   "metadata": {
    "collapsed": false
   }
  },
  {
   "cell_type": "markdown",
   "source": [
    "### En Python existen los tipos de datos primitivos o built-in que nos permiten representar información de la vida real de manera simple, además podemos utilizar dichos tipos de datos para realizar operaciones matemáticas entre otras."
   ],
   "metadata": {
    "collapsed": false
   }
  },
  {
   "cell_type": "markdown",
   "source": [
    "### Tenemos los siguientes tipos de datos más comunes:\n",
    "\n",
    "- Numéricos:\n",
    "    - int\n",
    "    - float\n",
    "- Cadenas de texto:\n",
    "    - str\n",
    "- Booleano:\n",
    "    - bool\n",
    "- Estructuras de datos:\n",
    "    - list\n",
    "    - set\n",
    "    - tuple\n",
    "    - dict"
   ],
   "metadata": {
    "collapsed": false
   }
  },
  {
   "cell_type": "markdown",
   "source": [
    "## Parte 1: Tipos de datos Numéricos"
   ],
   "metadata": {
    "collapsed": false
   }
  },
  {
   "cell_type": "markdown",
   "source": [
    "### El tipo de dato int\n",
    "\n",
    "Este tipo de dato nos permite contener números entero de tamaños que terminan siendo irrelevantes. El valor máximo como el valor mínimo que puede ser contenido dentro de un int es (en teoría) limitado únicamente por la capacidad de RAM de una computadora."
   ],
   "metadata": {
    "collapsed": false
   }
  },
  {
   "cell_type": "code",
   "execution_count": 42,
   "metadata": {
    "collapsed": true
   },
   "outputs": [
    {
     "name": "stdout",
     "output_type": "stream",
     "text": [
      "1 5 -100\n",
      "500000000000000000000000000000000000000000000\n"
     ]
    }
   ],
   "source": [
    "a = 1\n",
    "b = 5\n",
    "c = -100\n",
    "d = 500000000000000000000000000000000000000000000\n",
    "print(a, b, c)\n",
    "print(d)"
   ]
  },
  {
   "cell_type": "markdown",
   "source": [
    "### El tipo de dato float\n",
    "\n",
    "Este tipo de dato nos permite contener números decimales de tamaños que terminan siendo irrelevantes. El valor máximo como el valor mínimo que puede ser contenido dentro de un float es (en teoría) limitado únicamente por la capacidad de RAM de una computadora."
   ],
   "metadata": {
    "collapsed": false
   }
  },
  {
   "cell_type": "code",
   "execution_count": 43,
   "outputs": [
    {
     "name": "stdout",
     "output_type": "stream",
     "text": [
      "1.5 3.14 0.25 1e-07\n"
     ]
    }
   ],
   "source": [
    "a = 1.5\n",
    "b = 3.14\n",
    "c = 0.25\n",
    "d = 0.0000001\n",
    "\n",
    "print(a, b, c, d)"
   ],
   "metadata": {
    "collapsed": false
   }
  },
  {
   "cell_type": "markdown",
   "source": [
    "## Parte 2: Cadenas de texto\n"
   ],
   "metadata": {
    "collapsed": false
   }
  },
  {
   "cell_type": "markdown",
   "source": [
    "### El tipo de dato str (string)\n",
    "\n",
    "Este tipo de dato nos permite contener cadenas de texto que nuevamente pueden ser tan grandes como la memoria RAM de nuestro computador. Sin embargo, las cadenas de texto son inmutables, esto quiere decir que un no pueden cambiar una vez establecido su valor inicial."
   ],
   "metadata": {
    "collapsed": false
   }
  },
  {
   "cell_type": "code",
   "execution_count": 44,
   "outputs": [
    {
     "name": "stdout",
     "output_type": "stream",
     "text": [
      "Hola mundo!\n",
      "Adios!\n",
      "\n",
      "Hola, esta es una\n",
      "cadena de texto\n",
      "multi linea.\n",
      "\n",
      "Prueba de inmutabilidad: \n"
     ]
    },
    {
     "ename": "TypeError",
     "evalue": "'str' object does not support item assignment",
     "output_type": "error",
     "traceback": [
      "\u001B[0;31m---------------------------------------------------------------------------\u001B[0m",
      "\u001B[0;31mTypeError\u001B[0m                                 Traceback (most recent call last)",
      "Cell \u001B[0;32mIn[44], line 13\u001B[0m\n\u001B[1;32m     10\u001B[0m \u001B[38;5;28mprint\u001B[39m(c)\n\u001B[1;32m     12\u001B[0m \u001B[38;5;28mprint\u001B[39m(\u001B[38;5;124m'\u001B[39m\u001B[38;5;124mPrueba de inmutabilidad: \u001B[39m\u001B[38;5;124m'\u001B[39m)\n\u001B[0;32m---> 13\u001B[0m a[\u001B[38;5;241m0\u001B[39m] \u001B[38;5;241m=\u001B[39m \u001B[38;5;124m'\u001B[39m\u001B[38;5;124mh\u001B[39m\u001B[38;5;124m'\u001B[39m\n",
      "\u001B[0;31mTypeError\u001B[0m: 'str' object does not support item assignment"
     ]
    }
   ],
   "source": [
    "a = 'Hola mundo!'\n",
    "b = 'Adios!'\n",
    "c = '''\n",
    "Hola, esta es una\n",
    "cadena de texto\n",
    "multi linea.\n",
    "'''\n",
    "print(a)\n",
    "print(b)\n",
    "print(c)\n",
    "\n",
    "print('Prueba de inmutabilidad: ')\n",
    "a[0] = 'h'"
   ],
   "metadata": {
    "collapsed": false
   }
  },
  {
   "cell_type": "markdown",
   "source": [
    "## Parte 3: Valores Booleanos\n",
    "\n",
    "### El tipo de dato bool\n",
    "\n",
    "Este tipo de dato nos permite contener únicamente dos valores, True o False. De esta manera podemos determinar si se cumple o no una condicion entre otras cosas."
   ],
   "metadata": {
    "collapsed": false
   }
  },
  {
   "cell_type": "code",
   "execution_count": 45,
   "outputs": [
    {
     "name": "stdout",
     "output_type": "stream",
     "text": [
      "True False\n",
      "True\n",
      "False\n"
     ]
    }
   ],
   "source": [
    "a = True\n",
    "b = False\n",
    "\n",
    "print(a, b)\n",
    "print(1 == 1)\n",
    "print(1 == 2)"
   ],
   "metadata": {
    "collapsed": false
   }
  },
  {
   "cell_type": "markdown",
   "source": [
    "## Parte 4: Estructuras de datos\n",
    "\n",
    "### List\n",
    "\n",
    "Esta estructura de datos, como su nombre lo indica, permite almacenar un conjunto de datos de manera que puedan ser accedidos cuando asi se requieran. A diferencia de otros lenguajes, Python no requiere establecer el tipo de dato que va a contener la lista lo que la hace más versatil al trabajar en aplicaciones complejas."
   ],
   "metadata": {
    "collapsed": false
   }
  },
  {
   "cell_type": "code",
   "execution_count": 46,
   "outputs": [
    {
     "name": "stdout",
     "output_type": "stream",
     "text": [
      "[1, 2, 2, 4]\n",
      "['a', 'b', 1, False, 5.25]\n"
     ]
    }
   ],
   "source": [
    "a = [1, 2, 2, 4]\n",
    "print(a)\n",
    "\n",
    "b = list()\n",
    "b.append('a')\n",
    "b.append('b')\n",
    "b.append(1)\n",
    "b.append(False)\n",
    "b.append(5.25)\n",
    "\n",
    "print(b)"
   ],
   "metadata": {
    "collapsed": false
   }
  },
  {
   "cell_type": "markdown",
   "source": [
    "\n",
    "### Set\n",
    "\n",
    "Esta estructura de datos es similar a la lista; sin embargo, no permite almacenar dos elementos iguales sino que permite tener un objeto unico en lugar de repetidos.\n",
    "Otro punto importante es que los sets no mantienen un orden de ingreso de los datos."
   ],
   "metadata": {
    "collapsed": false
   }
  },
  {
   "cell_type": "code",
   "execution_count": 47,
   "outputs": [
    {
     "name": "stdout",
     "output_type": "stream",
     "text": [
      "{1, 2, 3, 4}\n",
      "{'b', 'c', 'a'}\n"
     ]
    }
   ],
   "source": [
    "a = {1, 2, 2, 3, 4}\n",
    "print(a)\n",
    "\n",
    "b = set()\n",
    "b.add('a')\n",
    "b.add('a')\n",
    "b.add('b')\n",
    "b.add('c')\n",
    "print(b)"
   ],
   "metadata": {
    "collapsed": false
   }
  },
  {
   "cell_type": "markdown",
   "source": [
    "\n",
    "### Tuple\n",
    "\n",
    "A diferencia de las dos estructuras de datos anteriores, las tuplas son un tipo de estructura de dato inmutable, esto quiere decir que una vez instanciada la tupla no podremos actualizar sus valores."
   ],
   "metadata": {
    "collapsed": false
   }
  },
  {
   "cell_type": "code",
   "execution_count": 48,
   "outputs": [
    {
     "name": "stdout",
     "output_type": "stream",
     "text": [
      "(1, 2, 3, 'a', 'b', 'c')\n",
      "Prueba de inmutabilidad en las tuplas\n"
     ]
    },
    {
     "ename": "TypeError",
     "evalue": "'tuple' object does not support item assignment",
     "output_type": "error",
     "traceback": [
      "\u001B[0;31m---------------------------------------------------------------------------\u001B[0m",
      "\u001B[0;31mTypeError\u001B[0m                                 Traceback (most recent call last)",
      "Cell \u001B[0;32mIn[48], line 5\u001B[0m\n\u001B[1;32m      2\u001B[0m \u001B[38;5;28mprint\u001B[39m(a)\n\u001B[1;32m      4\u001B[0m \u001B[38;5;28mprint\u001B[39m(\u001B[38;5;124m'\u001B[39m\u001B[38;5;124mPrueba de inmutabilidad en las tuplas\u001B[39m\u001B[38;5;124m'\u001B[39m)\n\u001B[0;32m----> 5\u001B[0m a[\u001B[38;5;241m0\u001B[39m] \u001B[38;5;241m=\u001B[39m \u001B[38;5;124m'\u001B[39m\u001B[38;5;124ma\u001B[39m\u001B[38;5;124m'\u001B[39m\n",
      "\u001B[0;31mTypeError\u001B[0m: 'tuple' object does not support item assignment"
     ]
    }
   ],
   "source": [
    "a = (1, 2, 3, 'a', 'b', 'c')\n",
    "print(a)\n",
    "\n",
    "print('Prueba de inmutabilidad en las tuplas')\n",
    "a[0] = 'a'"
   ],
   "metadata": {
    "collapsed": false
   }
  },
  {
   "cell_type": "markdown",
   "source": [
    "\n",
    "### Dict\n",
    "\n",
    "Los diccionarios, junto a las listas, es una de las estructuras mas comunes y mas utilizadas dentro de Python, esto se debe a que permiten contener pares de datos (clave - valor) lo cual nos permite realizar opciones de busca de manera eficaz."
   ],
   "metadata": {
    "collapsed": false
   }
  },
  {
   "cell_type": "code",
   "execution_count": 49,
   "outputs": [
    {
     "name": "stdout",
     "output_type": "stream",
     "text": [
      "{'a': 10, 'b': 20, 'c': 30, 1: 0.1, 2: 0.2, 3: 'tres'}\n",
      "Buscando la clave 'c': 30, clave 3: tres\n",
      "Agregar un nuevo valor a un diccionario:\n",
      "{'a': 10, 'b': 20, 'c': 30, 1: 0.1, 2: 0.2, 3: 'tres', 4: 'cuatro'}\n",
      "Actualizar una clave:\n",
      "{'a': 5.5, 'b': 20, 'c': 30, 1: 0.1, 2: 0.2, 3: 'tres', 4: 'cuatro'}\n"
     ]
    }
   ],
   "source": [
    "a = {'a': 10, 'b': 20, 'c': 30, 1: 0.10, 2: 0.20, 3: 'tres'}\n",
    "print(a)\n",
    "\n",
    "print(f\"Buscando la clave 'c': {a.get('c')}, clave 3: {a.get(3)}\")\n",
    "\n",
    "print('Agregar un nuevo valor a un diccionario:')\n",
    "a[4] = 'cuatro'\n",
    "print(a)\n",
    "\n",
    "print('Actualizar una clave:')\n",
    "a['a'] = 5.50\n",
    "print(a)"
   ],
   "metadata": {
    "collapsed": false
   }
  },
  {
   "cell_type": "markdown",
   "source": [
    "# Operaciones sobre tipos de datos"
   ],
   "metadata": {
    "collapsed": false
   }
  },
  {
   "cell_type": "markdown",
   "source": [
    "### En python se pueden realizar diferentes operaciones matematicas sobre los siguientes tipos de datos: int y float."
   ],
   "metadata": {
    "collapsed": false
   }
  },
  {
   "cell_type": "markdown",
   "source": [
    "#### 1. Suma"
   ],
   "metadata": {
    "collapsed": false
   }
  },
  {
   "cell_type": "code",
   "execution_count": 50,
   "outputs": [
    {
     "name": "stdout",
     "output_type": "stream",
     "text": [
      "Resultado 3.5\n"
     ]
    }
   ],
   "source": [
    "a = 1.5\n",
    "b = 2\n",
    "\n",
    "print(f'Resultado {a+b}')"
   ],
   "metadata": {
    "collapsed": false
   }
  },
  {
   "cell_type": "markdown",
   "source": [
    "#### 2. Resta\n"
   ],
   "metadata": {
    "collapsed": false
   }
  },
  {
   "cell_type": "code",
   "execution_count": 51,
   "outputs": [
    {
     "name": "stdout",
     "output_type": "stream",
     "text": [
      "Resultado: 4.0\n"
     ]
    }
   ],
   "source": [
    "a = 4.55\n",
    "b = 0.55\n",
    "\n",
    "print(f'Resultado: {a-b}')"
   ],
   "metadata": {
    "collapsed": false
   }
  },
  {
   "cell_type": "markdown",
   "source": [
    "#### 3. Multiplicacion\n"
   ],
   "metadata": {
    "collapsed": false
   }
  },
  {
   "cell_type": "code",
   "execution_count": 52,
   "outputs": [
    {
     "name": "stdout",
     "output_type": "stream",
     "text": [
      "Resultado: 2.5\n"
     ]
    }
   ],
   "source": [
    "a = 5\n",
    "b = 0.5\n",
    "\n",
    "print(f'Resultado: {a*b}')"
   ],
   "metadata": {
    "collapsed": false
   }
  },
  {
   "cell_type": "markdown",
   "source": [
    "#### 4. Division\n"
   ],
   "metadata": {
    "collapsed": false
   }
  },
  {
   "cell_type": "code",
   "execution_count": 58,
   "outputs": [
    {
     "name": "stdout",
     "output_type": "stream",
     "text": [
      "Resultado: 14.285714285714286\n",
      "Resultado entero redondeado: 14\n"
     ]
    }
   ],
   "source": [
    "a = 100\n",
    "b = 7\n",
    "\n",
    "print(f'Resultado: {a/b}')\n",
    "\n",
    "print(f'Resultado entero redondeado: {a//b}')"
   ],
   "metadata": {
    "collapsed": false
   }
  },
  {
   "cell_type": "markdown",
   "source": [
    "#### 5. Exponenciación\n"
   ],
   "metadata": {
    "collapsed": false
   }
  },
  {
   "cell_type": "code",
   "execution_count": 59,
   "outputs": [
    {
     "name": "stdout",
     "output_type": "stream",
     "text": [
      "Resultado: 25\n"
     ]
    }
   ],
   "source": [
    "a = 5\n",
    "b = 2\n",
    "\n",
    "print(f'Resultado: {a**b}')"
   ],
   "metadata": {
    "collapsed": false
   }
  }
 ],
 "metadata": {
  "kernelspec": {
   "display_name": "Python 3",
   "language": "python",
   "name": "python3"
  },
  "language_info": {
   "codemirror_mode": {
    "name": "ipython",
    "version": 2
   },
   "file_extension": ".py",
   "mimetype": "text/x-python",
   "name": "python",
   "nbconvert_exporter": "python",
   "pygments_lexer": "ipython2",
   "version": "2.7.6"
  }
 },
 "nbformat": 4,
 "nbformat_minor": 0
}
