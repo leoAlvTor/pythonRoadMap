{
 "cells": [
  {
   "cell_type": "markdown",
   "source": [
    "# Estructuras de control en Python"
   ],
   "metadata": {
    "collapsed": false
   }
  },
  {
   "cell_type": "markdown",
   "source": [
    "### Las estructuras de control nos permiten determinar el comportamiento de nuestro programa. Las estructuras mas comunes son If-Else y los bucles"
   ],
   "metadata": {
    "collapsed": false
   }
  },
  {
   "cell_type": "markdown",
   "source": [
    "#### Estructura de control If-Elif-Else"
   ],
   "metadata": {
    "collapsed": false
   }
  },
  {
   "cell_type": "markdown",
   "source": [
    "La estructura de control If-Elif-Else nos permite determinar si cierta variable tiene un determinado valor, en la parte que del IF se ingresa la primera condicion, en Elif ingresamos las siguientes X condiciones, y finalmente en Else no debemos ingresar ninguna condicion ya que esta solo se ejecuta si las condiciones en IF y ELIF no se han cumplido."
   ],
   "metadata": {
    "collapsed": false
   }
  },
  {
   "cell_type": "code",
   "execution_count": 3,
   "metadata": {
    "collapsed": true
   },
   "outputs": [
    {
     "name": "stdout",
     "output_type": "stream",
     "text": [
      "Usted es menor de edad!\n"
     ]
    }
   ],
   "source": [
    "a = int(input('Ingrese su edad actual:'))\n",
    "if a >= 18:\n",
    "    print('Usted es mayor de edad!')\n",
    "else:\n",
    "    print('Usted es menor de edad!')\n"
   ]
  },
  {
   "cell_type": "code",
   "execution_count": 5,
   "outputs": [
    {
     "name": "stdout",
     "output_type": "stream",
     "text": [
      "Usted es mayor de edad!\n"
     ]
    }
   ],
   "source": [
    "a = int(input('Ingrese su edad actual:'))\n",
    "\n",
    "if 18 <= a < 65:\n",
    "    print('Usted es mayor de edad!')\n",
    "elif a >= 65:\n",
    "    print('Usted pertenece a la tercera edad!')\n",
    "else:\n",
    "    print('Usted es menor de edad')"
   ],
   "metadata": {
    "collapsed": false
   }
  },
  {
   "cell_type": "code",
   "execution_count": 10,
   "outputs": [
    {
     "name": "stdout",
     "output_type": "stream",
     "text": [
      "Usted no tiene las credenciales correctas o esta su cuenta esta baneada!\n"
     ]
    }
   ],
   "source": [
    "nombre = input('Ingrese su nombre')\n",
    "administradores = ['Leo', 'Marta', 'Cristian', 'Alexandra', 'Daniel', 'Sandra']\n",
    "usuarios = ['Mario', 'Cesar', 'Janneth', 'Andres']\n",
    "lista_baneados = ['Daniel', 'Sandra']\n",
    "\n",
    "if nombre in administradores and nombre not in lista_baneados:\n",
    "    print('Usted puede acceder!')\n",
    "elif nombre in usuarios:\n",
    "    print('Usted es un usuario sin privilegios, por favor debe acceder con una cuenta de administrador!')\n",
    "else:\n",
    "    print('Usted no tiene las credenciales correctas o esta su cuenta esta baneada!')"
   ],
   "metadata": {
    "collapsed": false
   }
  },
  {
   "cell_type": "markdown",
   "source": [
    "### Bucles en Python"
   ],
   "metadata": {
    "collapsed": false
   }
  },
  {
   "cell_type": "markdown",
   "source": [
    "Los bucles no son mas que estructuras de control repetitivas que van a relizar una tarea siempre y cuando se cumpla una condicion. Entre los bucles tenemos a FOR y WHILE; sin embargo, existen maneras de crear bucles de otras maneras."
   ],
   "metadata": {
    "collapsed": false
   }
  },
  {
   "cell_type": "code",
   "execution_count": 11,
   "outputs": [
    {
     "name": "stdout",
     "output_type": "stream",
     "text": [
      "0\n",
      "1\n",
      "2\n",
      "3\n",
      "4\n"
     ]
    }
   ],
   "source": [
    "for i in range(5):\n",
    "    print(i)"
   ],
   "metadata": {
    "collapsed": false
   }
  },
  {
   "cell_type": "code",
   "execution_count": 12,
   "outputs": [
    {
     "name": "stdout",
     "output_type": "stream",
     "text": [
      "0\n",
      "2\n",
      "4\n",
      "6\n",
      "8\n"
     ]
    }
   ],
   "source": [
    "for i in range(0, 10, 2):\n",
    "    print(i)"
   ],
   "metadata": {
    "collapsed": false
   }
  },
  {
   "cell_type": "code",
   "execution_count": 20,
   "outputs": [
    {
     "name": "stdout",
     "output_type": "stream",
     "text": [
      "Error, no se logro llegar a 5 🥲\n"
     ]
    }
   ],
   "source": [
    "for i in range(5):\n",
    "    if i == 5:\n",
    "        print('Exito!')\n",
    "        break\n",
    "else:\n",
    "    print('Error, no se logro llegar a 5 🥲')"
   ],
   "metadata": {
    "collapsed": false
   }
  },
  {
   "cell_type": "code",
   "execution_count": 22,
   "outputs": [
    {
     "name": "stdout",
     "output_type": "stream",
     "text": [
      "0\n",
      "1\n",
      "2\n",
      "3\n",
      "4\n"
     ]
    }
   ],
   "source": [
    "a = 0\n",
    "while a < 5:\n",
    "    print(a)\n",
    "    a += 1"
   ],
   "metadata": {
    "collapsed": false
   }
  },
  {
   "cell_type": "code",
   "execution_count": 24,
   "outputs": [
    {
     "name": "stdout",
     "output_type": "stream",
     "text": [
      "Error, no se logro llegar a 5 🙃\n"
     ]
    }
   ],
   "source": [
    "a = 0\n",
    "while a < 5:\n",
    "    if a == 5:\n",
    "        print('Exito!')\n",
    "        break\n",
    "    a += 1\n",
    "else:\n",
    "    print('Error, no se logro llegar a 5 🙃')"
   ],
   "metadata": {
    "collapsed": false
   }
  },
  {
   "cell_type": "code",
   "execution_count": 27,
   "outputs": [
    {
     "name": "stdout",
     "output_type": "stream",
     "text": [
      "Elemento: 1\n",
      "Elemento: 2\n",
      "Elemento: 3\n",
      "Elemento: a\n",
      "Elemento: b\n",
      "Elemento: c\n"
     ]
    }
   ],
   "source": [
    "a = [1, 2, 3, 'a', 'b', 'c']\n",
    "\n",
    "for i in a:\n",
    "    print(f'Elemento: {i}')"
   ],
   "metadata": {
    "collapsed": false
   }
  },
  {
   "cell_type": "code",
   "execution_count": 28,
   "outputs": [
    {
     "name": "stdout",
     "output_type": "stream",
     "text": [
      "Index 0, elemento 1\n",
      "Index 1, elemento 2\n",
      "Index 2, elemento 3\n",
      "Index 3, elemento a\n",
      "Index 4, elemento b\n",
      "Index 5, elemento c\n"
     ]
    }
   ],
   "source": [
    "for index, element in enumerate(a):\n",
    "    print(f'Index {index}, elemento {element}')"
   ],
   "metadata": {
    "collapsed": false
   }
  },
  {
   "cell_type": "code",
   "execution_count": 35,
   "outputs": [
    {
     "name": "stdout",
     "output_type": "stream",
     "text": [
      "Index padre: 0, index hijo: 0, valor hijo: 1\n",
      "Index padre: 0, index hijo: 1, valor hijo: 2\n",
      "Index padre: 0, index hijo: 2, valor hijo: 3\n",
      "Index padre: 1, index hijo: 0, valor hijo: a\n",
      "Index padre: 1, index hijo: 1, valor hijo: b\n",
      "Index padre: 1, index hijo: 2, valor hijo: c\n",
      "Index padre: 2, index hijo: 0, valor hijo: 0.1\n",
      "Index padre: 2, index hijo: 1, valor hijo: 0.2\n",
      "Index padre: 2, index hijo: 2, valor hijo: 0.3\n",
      "Index padre: 3, index hijo: 0, valor hijo: 0\n",
      "Index padre: 3, index hijo: 1, valor hijo: 1\n",
      "Index padre: 3, index hijo: 2, valor hijo: 2\n"
     ]
    }
   ],
   "source": [
    "a = [[1, 2, 3], ['a', 'b', 'c'], [0.1, 0.2, 0.3], (0, 1, 2)]\n",
    "\n",
    "for index, element in enumerate(a):\n",
    "    for index1, element1 in enumerate(element):\n",
    "        print(f'Index padre: {index}, index hijo: {index1}, valor hijo: {element1}')"
   ],
   "metadata": {
    "collapsed": false
   }
  },
  {
   "cell_type": "code",
   "execution_count": 37,
   "outputs": [
    {
     "name": "stdout",
     "output_type": "stream",
     "text": [
      "H\n",
      "o\n",
      "l\n",
      "a\n",
      " \n",
      "m\n",
      "u\n",
      "n\n",
      "d\n",
      "o\n",
      "!\n"
     ]
    }
   ],
   "source": [
    "a = 'Hola mundo!'\n",
    "\n",
    "for i in range(len(a)):\n",
    "    print(a[i])"
   ],
   "metadata": {
    "collapsed": false
   }
  },
  {
   "cell_type": "code",
   "execution_count": null,
   "outputs": [],
   "source": [],
   "metadata": {
    "collapsed": false
   }
  }
 ],
 "metadata": {
  "kernelspec": {
   "display_name": "Python 3",
   "language": "python",
   "name": "python3"
  },
  "language_info": {
   "codemirror_mode": {
    "name": "ipython",
    "version": 2
   },
   "file_extension": ".py",
   "mimetype": "text/x-python",
   "name": "python",
   "nbconvert_exporter": "python",
   "pygments_lexer": "ipython2",
   "version": "2.7.6"
  }
 },
 "nbformat": 4,
 "nbformat_minor": 0
}
